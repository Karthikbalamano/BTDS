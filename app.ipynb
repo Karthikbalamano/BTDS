{
 "cells": [
  {
   "cell_type": "code",
   "execution_count": 1,
   "id": "9b72627d",
   "metadata": {},
   "outputs": [],
   "source": [
    "import os\n",
    "import tensorflow as tf\n",
    "import numpy as np\n",
    "from PIL import Image\n",
    "import cv2\n",
    "from keras.models import load_model\n",
    "from flask import Flask, request, render_template\n",
    "from werkzeug.utils import secure_filename"
   ]
  },
  {
   "cell_type": "code",
   "execution_count": null,
   "id": "4fea3fd6",
   "metadata": {
    "scrolled": true
   },
   "outputs": [
    {
     "name": "stdout",
     "output_type": "stream",
     "text": [
      "Model loaded. Check http://127.0.0.1:5000/\n",
      " * Serving Flask app \"__main__\" (lazy loading)\n",
      " * Environment: production\n",
      "\u001b[31m   WARNING: This is a development server. Do not use it in a production deployment.\u001b[0m\n",
      "\u001b[2m   Use a production WSGI server instead.\u001b[0m\n",
      " * Debug mode: on\n"
     ]
    },
    {
     "name": "stderr",
     "output_type": "stream",
     "text": [
      " * Running on http://127.0.0.1:5000/ (Press CTRL+C to quit)\n",
      "127.0.0.1 - - [31/Jan/2022 23:21:39] \"GET / HTTP/1.1\" 200 -\n",
      "127.0.0.1 - - [31/Jan/2022 23:21:39] \"GET / HTTP/1.1\" 200 -\n",
      "127.0.0.1 - - [31/Jan/2022 23:21:44] \"POST /predict HTTP/1.1\" 200 -\n",
      "127.0.0.1 - - [31/Jan/2022 23:21:52] \"POST /predict HTTP/1.1\" 200 -\n",
      "127.0.0.1 - - [31/Jan/2022 23:22:14] \"POST /predict HTTP/1.1\" 200 -\n",
      "127.0.0.1 - - [31/Jan/2022 23:25:37] \"POST /predict HTTP/1.1\" 200 -\n",
      "127.0.0.1 - - [31/Jan/2022 23:25:43] \"POST /predict HTTP/1.1\" 200 -\n",
      "127.0.0.1 - - [31/Jan/2022 23:26:02] \"POST /predict HTTP/1.1\" 200 -\n",
      "127.0.0.1 - - [31/Jan/2022 23:26:48] \"POST /predict HTTP/1.1\" 200 -\n",
      "127.0.0.1 - - [31/Jan/2022 23:27:30] \"POST /predict HTTP/1.1\" 200 -\n",
      "127.0.0.1 - - [31/Jan/2022 23:27:37] \"POST /predict HTTP/1.1\" 200 -\n",
      "127.0.0.1 - - [31/Jan/2022 23:29:22] \"POST /predict HTTP/1.1\" 200 -\n",
      "127.0.0.1 - - [31/Jan/2022 23:29:29] \"POST /predict HTTP/1.1\" 200 -\n"
     ]
    }
   ],
   "source": [
    "app = Flask(__name__)\n",
    "\n",
    "model = load_model('BrainTumorClassification10Epochs.h5')\n",
    "print('Model loaded. Check http://127.0.0.1:5000/')\n",
    "\n",
    "\n",
    "def get_className(classNo):\n",
    "    if classNo==0:\n",
    "        return \"Uploaded Image has No Brain Tumor\"\n",
    "    elif classNo==1:\n",
    "        return \"Uploaded Image has Brain Tumor\"\n",
    "\n",
    "\n",
    "def getResult(img):\n",
    "    image=cv2.imread(img)\n",
    "    image = Image.fromarray(image, 'RGB')\n",
    "    image = image.resize((64, 64))\n",
    "    image = np.array(image)\n",
    "    input_img = np.expand_dims(image, axis=0)\n",
    "    result=(model.predict(input_img) > 0.5).astype(\"int32\")\n",
    "    return result\n",
    "\n",
    "\n",
    "@app.route('/', methods=['GET'])\n",
    "def index():\n",
    "    return render_template('index.html')\n",
    "\n",
    "\n",
    "@app.route('/predict', methods=['GET', 'POST'])\n",
    "def upload():\n",
    "    if request.method == 'POST':\n",
    "        f = request.files['file']\n",
    "\n",
    "        basepath = os.path.dirname('__file__')\n",
    "        file_path = os.path.join(\n",
    "            basepath, 'uploads', secure_filename(f.filename))\n",
    "        f.save(file_path)\n",
    "        value=getResult(file_path)\n",
    "        result=get_className(value) \n",
    "        return result\n",
    "    return None\n",
    "\n",
    "\n",
    "if __name__ == '__main__':\n",
    "    app.run(debug=True, use_reloader=False)"
   ]
  },
  {
   "cell_type": "code",
   "execution_count": null,
   "id": "8c559c30",
   "metadata": {},
   "outputs": [],
   "source": []
  }
 ],
 "metadata": {
  "kernelspec": {
   "display_name": "Python 3.6 (tensorflow)",
   "language": "python",
   "name": "tensorflow"
  },
  "language_info": {
   "codemirror_mode": {
    "name": "ipython",
    "version": 3
   },
   "file_extension": ".py",
   "mimetype": "text/x-python",
   "name": "python",
   "nbconvert_exporter": "python",
   "pygments_lexer": "ipython3",
   "version": "3.9.7"
  }
 },
 "nbformat": 4,
 "nbformat_minor": 5
}
