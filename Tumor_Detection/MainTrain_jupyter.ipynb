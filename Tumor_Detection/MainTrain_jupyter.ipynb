{
 "cells": [
  {
   "cell_type": "code",
   "execution_count": 1,
   "id": "79becfa4",
   "metadata": {},
   "outputs": [],
   "source": [
    "import cv2\n",
    "import os\n",
    "import tensorflow as tf\n",
    "from tensorflow import keras\n",
    "from PIL import Image\n",
    "import numpy as np\n",
    "import pandas as pd\n",
    "import seaborn as sns\n",
    "from sklearn.model_selection import train_test_split\n",
    "from sklearn.metrics import confusion_matrix, classification_report, accuracy_score\n",
    "from keras.utils import  normalize\n",
    "from keras.models import Sequential\n",
    "from keras.layers import Conv2D, MaxPooling2D\n",
    "from keras.layers import Activation, Dropout, Flatten, Dense\n",
    "from matplotlib import pyplot as plt"
   ]
  },
  {
   "cell_type": "code",
   "execution_count": 2,
   "id": "b0e48bce",
   "metadata": {},
   "outputs": [],
   "source": [
    "image_directory='datasets/'"
   ]
  },
  {
   "cell_type": "code",
   "execution_count": 3,
   "id": "6eba73a0",
   "metadata": {},
   "outputs": [],
   "source": [
    "no_tumor_images=os.listdir(image_directory+ 'no/')\n",
    "yes_tumor_images=os.listdir(image_directory+ 'yes/')\n",
    "dataset=[]\n",
    "label=[]"
   ]
  },
  {
   "cell_type": "code",
   "execution_count": 4,
   "id": "8a010666",
   "metadata": {},
   "outputs": [],
   "source": [
    "INPUT_SIZE=64"
   ]
  },
  {
   "cell_type": "code",
   "execution_count": 5,
   "id": "d076e143",
   "metadata": {},
   "outputs": [],
   "source": [
    "for i, image_name in enumerate(no_tumor_images):\n",
    "    if(image_name.split('.')[1]=='jpg'):\n",
    "        image=cv2.imread(image_directory+ 'no/'+image_name)\n",
    "        image=Image.fromarray(image, 'RGB')\n",
    "        image=image.resize((INPUT_SIZE,INPUT_SIZE))\n",
    "        dataset.append(np.array(image))\n",
    "        label.append(0)\n",
    "\n",
    "for i, image_name in enumerate(yes_tumor_images):\n",
    "    if(image_name.split('.')[1]=='jpg'):\n",
    "        image=cv2.imread(image_directory+ 'yes/'+image_name)\n",
    "        image=Image.fromarray(image, 'RGB')\n",
    "        image=image.resize((INPUT_SIZE,INPUT_SIZE))\n",
    "        dataset.append(np.array(image))\n",
    "        label.append(1)\n"
   ]
  },
  {
   "cell_type": "code",
   "execution_count": 6,
   "id": "bef8474a",
   "metadata": {},
   "outputs": [],
   "source": [
    "dataset=np.array(dataset)\n",
    "label=np.array(label)\n",
    "\n",
    "x_train, x_test, y_train, y_test =train_test_split(dataset,label, test_size=0.2)"
   ]
  },
  {
   "cell_type": "code",
   "execution_count": 7,
   "id": "b7e0d573",
   "metadata": {},
   "outputs": [],
   "source": [
    "x_train=normalize(x_train, axis=1)\n",
    "x_test=normalize(x_test, axis=1)"
   ]
  },
  {
   "cell_type": "code",
   "execution_count": 8,
   "id": "feb4faa6",
   "metadata": {},
   "outputs": [
    {
     "name": "stdout",
     "output_type": "stream",
     "text": [
      "Epoch 1/10\n",
      "150/150 [==============================] - 5s 31ms/step - loss: 0.5656 - accuracy: 0.7133 - val_loss: 0.4494 - val_accuracy: 0.7867\n",
      "Epoch 2/10\n",
      "150/150 [==============================] - 4s 27ms/step - loss: 0.4479 - accuracy: 0.8050 - val_loss: 0.3271 - val_accuracy: 0.8650\n",
      "Epoch 3/10\n",
      "150/150 [==============================] - 4s 26ms/step - loss: 0.3494 - accuracy: 0.8546 - val_loss: 0.2465 - val_accuracy: 0.8867\n",
      "Epoch 4/10\n",
      "150/150 [==============================] - 4s 24ms/step - loss: 0.2880 - accuracy: 0.8854 - val_loss: 0.2073 - val_accuracy: 0.9183\n",
      "Epoch 5/10\n",
      "150/150 [==============================] - 4s 24ms/step - loss: 0.2235 - accuracy: 0.9121 - val_loss: 0.1981 - val_accuracy: 0.9200\n",
      "Epoch 6/10\n",
      "150/150 [==============================] - 4s 24ms/step - loss: 0.1692 - accuracy: 0.9350 - val_loss: 0.1368 - val_accuracy: 0.9633\n",
      "Epoch 7/10\n",
      "150/150 [==============================] - 4s 24ms/step - loss: 0.1269 - accuracy: 0.9567 - val_loss: 0.1090 - val_accuracy: 0.9633\n",
      "Epoch 8/10\n",
      "150/150 [==============================] - 4s 25ms/step - loss: 0.0840 - accuracy: 0.9692 - val_loss: 0.1033 - val_accuracy: 0.9667\n",
      "Epoch 9/10\n",
      "150/150 [==============================] - 4s 26ms/step - loss: 0.0568 - accuracy: 0.9821 - val_loss: 0.1037 - val_accuracy: 0.9700\n",
      "Epoch 10/10\n",
      "150/150 [==============================] - 4s 26ms/step - loss: 0.0467 - accuracy: 0.9875 - val_loss: 0.0913 - val_accuracy: 0.9800\n"
     ]
    }
   ],
   "source": [
    "model=Sequential()\n",
    "\n",
    "model.add(Conv2D(32,(3,3), input_shape=(INPUT_SIZE, INPUT_SIZE, 3)))\n",
    "model.add(Activation('relu'))\n",
    "model.add(MaxPooling2D(pool_size=(2,2)))\n",
    "\n",
    "model.add(Conv2D(32,(3,3), kernel_initializer='he_uniform'))\n",
    "model.add(Activation('relu'))\n",
    "model.add(MaxPooling2D(pool_size=(2,2)))\n",
    "\n",
    "model.add(Conv2D(32,(3,3), kernel_initializer='he_uniform'))\n",
    "model.add(Activation('relu'))\n",
    "model.add(MaxPooling2D(pool_size=(2,2)))\n",
    "\n",
    "model.add(Flatten())\n",
    "model.add(Dense(64))\n",
    "model.add(Activation('relu'))\n",
    "model.add(Dropout(0.5))\n",
    "model.add(Dense(1))\n",
    "model.add(Activation('sigmoid'))\n",
    "\n",
    "#Binary CrossEntropy= 1, sigmoid\n",
    "#CrossEntropy= 1, sigmoid\n",
    "\n",
    "model.compile(loss='binary_crossentropy',optimizer='adam', metrics=['accuracy'])\n",
    "\n",
    "model.fit(x_train, y_train, batch_size=16, verbose=1, epochs=10, validation_data=(x_test, y_test), shuffle=False)\n",
    "\n",
    "model.save('BrainTumor10Epochs5vs.h5')"
   ]
  },
  {
   "cell_type": "code",
   "execution_count": 9,
   "id": "a4b2c110",
   "metadata": {},
   "outputs": [
    {
     "name": "stdout",
     "output_type": "stream",
     "text": [
      "Model: \"sequential\"\n",
      "_________________________________________________________________\n",
      " Layer (type)                Output Shape              Param #   \n",
      "=================================================================\n",
      " conv2d (Conv2D)             (None, 62, 62, 32)        896       \n",
      "                                                                 \n",
      " activation (Activation)     (None, 62, 62, 32)        0         \n",
      "                                                                 \n",
      " max_pooling2d (MaxPooling2D  (None, 31, 31, 32)       0         \n",
      " )                                                               \n",
      "                                                                 \n",
      " conv2d_1 (Conv2D)           (None, 29, 29, 32)        9248      \n",
      "                                                                 \n",
      " activation_1 (Activation)   (None, 29, 29, 32)        0         \n",
      "                                                                 \n",
      " max_pooling2d_1 (MaxPooling  (None, 14, 14, 32)       0         \n",
      " 2D)                                                             \n",
      "                                                                 \n",
      " conv2d_2 (Conv2D)           (None, 12, 12, 32)        9248      \n",
      "                                                                 \n",
      " activation_2 (Activation)   (None, 12, 12, 32)        0         \n",
      "                                                                 \n",
      " max_pooling2d_2 (MaxPooling  (None, 6, 6, 32)         0         \n",
      " 2D)                                                             \n",
      "                                                                 \n",
      " flatten (Flatten)           (None, 1152)              0         \n",
      "                                                                 \n",
      " dense (Dense)               (None, 64)                73792     \n",
      "                                                                 \n",
      " activation_3 (Activation)   (None, 64)                0         \n",
      "                                                                 \n",
      " dropout (Dropout)           (None, 64)                0         \n",
      "                                                                 \n",
      " dense_1 (Dense)             (None, 1)                 65        \n",
      "                                                                 \n",
      " activation_4 (Activation)   (None, 1)                 0         \n",
      "                                                                 \n",
      "=================================================================\n",
      "Total params: 93,249\n",
      "Trainable params: 93,249\n",
      "Non-trainable params: 0\n",
      "_________________________________________________________________\n"
     ]
    }
   ],
   "source": [
    "model.summary()"
   ]
  },
  {
   "cell_type": "code",
   "execution_count": 10,
   "id": "c0e757b7",
   "metadata": {},
   "outputs": [
    {
     "name": "stdout",
     "output_type": "stream",
     "text": [
      "19/19 [==============================] - 0s 14ms/step\n"
     ]
    }
   ],
   "source": [
    "p_pred = model.predict(x_test)\n",
    "p_pred = p_pred.flatten()"
   ]
  },
  {
   "cell_type": "code",
   "execution_count": 16,
   "id": "c773379b",
   "metadata": {},
   "outputs": [],
   "source": [
    "y_pred = np.where(p_pred > 0.5, 1, 0)"
   ]
  },
  {
   "cell_type": "code",
   "execution_count": 17,
   "id": "5460ca84",
   "metadata": {},
   "outputs": [
    {
     "name": "stdout",
     "output_type": "stream",
     "text": [
      "[[309   7]\n",
      " [  5 279]]\n"
     ]
    }
   ],
   "source": [
    "print(confusion_matrix(y_test, y_pred))"
   ]
  },
  {
   "cell_type": "code",
   "execution_count": 18,
   "id": "83a487b9",
   "metadata": {},
   "outputs": [
    {
     "data": {
      "text/plain": [
       "(309, 7, 5, 279)"
      ]
     },
     "execution_count": 18,
     "metadata": {},
     "output_type": "execute_result"
    }
   ],
   "source": [
    "tn, fp, fn, tp = confusion_matrix(y_test, y_pred).ravel()\n",
    "tn,fp,fn,tp"
   ]
  },
  {
   "cell_type": "code",
   "execution_count": 19,
   "id": "3bdf7599",
   "metadata": {},
   "outputs": [
    {
     "name": "stdout",
     "output_type": "stream",
     "text": [
      "Classification Report : \n",
      "               precision    recall  f1-score   support\n",
      "\n",
      "           0       0.98      0.98      0.98       316\n",
      "           1       0.98      0.98      0.98       284\n",
      "\n",
      "    accuracy                           0.98       600\n",
      "   macro avg       0.98      0.98      0.98       600\n",
      "weighted avg       0.98      0.98      0.98       600\n",
      "\n"
     ]
    }
   ],
   "source": [
    "matrix = classification_report(y_test, y_pred)\n",
    "print('Classification Report : \\n', matrix)"
   ]
  },
  {
   "cell_type": "code",
   "execution_count": 20,
   "id": "5455c845",
   "metadata": {},
   "outputs": [
    {
     "data": {
      "text/plain": [
       "0.98"
      ]
     },
     "execution_count": 20,
     "metadata": {},
     "output_type": "execute_result"
    }
   ],
   "source": [
    "score = accuracy_score(y_test,y_pred)\n",
    "score"
   ]
  },
  {
   "cell_type": "code",
   "execution_count": 21,
   "id": "c24a8d53",
   "metadata": {},
   "outputs": [
    {
     "name": "stdout",
     "output_type": "stream",
     "text": [
      "Model Accuracy is : 0.98\n"
     ]
    }
   ],
   "source": [
    "print('Model Accuracy is :', score)"
   ]
  }
 ],
 "metadata": {
  "kernelspec": {
   "display_name": "Python 3 (ipykernel)",
   "language": "python",
   "name": "python3"
  },
  "language_info": {
   "codemirror_mode": {
    "name": "ipython",
    "version": 3
   },
   "file_extension": ".py",
   "mimetype": "text/x-python",
   "name": "python",
   "nbconvert_exporter": "python",
   "pygments_lexer": "ipython3",
   "version": "3.9.12"
  }
 },
 "nbformat": 4,
 "nbformat_minor": 5
}
